{
  "cells": [
    {
      "cell_type": "markdown",
      "source": [
        "B211030- Vaibhavi Dhumal\n",
        "\n",
        "Google stock"
      ],
      "metadata": {
        "id": "TOcCmgU-NRTB"
      }
    },
    {
      "cell_type": "code",
      "execution_count": 2,
      "metadata": {
        "_cell_guid": "b1076dfc-b9ad-4769-8c92-a6c4dae69d19",
        "_uuid": "8f2839f25d086af736a60e9eeb907d3b93b6e0e5",
        "execution": {
          "iopub.execute_input": "2023-04-16T15:49:48.080896Z",
          "iopub.status.busy": "2023-04-16T15:49:48.080597Z",
          "iopub.status.idle": "2023-04-16T15:49:48.112687Z",
          "shell.execute_reply": "2023-04-16T15:49:48.111857Z",
          "shell.execute_reply.started": "2023-04-16T15:49:48.080847Z"
        },
        "id": "bFpVTu8J1IJ3"
      },
      "outputs": [],
      "source": [
        "import numpy as np # linear algebra\n",
        "import pandas as pd # data processing, CSV file I/O (e.g. pd.read_csv)\n",
        "import matplotlib.pyplot as plt"
      ]
    },
    {
      "cell_type": "code",
      "execution_count": 3,
      "metadata": {
        "_cell_guid": "79c7e3d0-c299-4dcb-8224-4455121ee9b0",
        "_uuid": "d629ff2d2480ee46fbb7e2d37f6b5fab8052498a",
        "execution": {
          "iopub.execute_input": "2023-04-16T15:49:48.114319Z",
          "iopub.status.busy": "2023-04-16T15:49:48.114015Z",
          "iopub.status.idle": "2023-04-16T15:49:48.155254Z",
          "shell.execute_reply": "2023-04-16T15:49:48.154298Z",
          "shell.execute_reply.started": "2023-04-16T15:49:48.114238Z"
        },
        "id": "4DOOPhRn1IJ6"
      },
      "outputs": [],
      "source": [
        "dataset_train = pd.read_csv(\"trainset.csv\")"
      ]
    },
    {
      "cell_type": "code",
      "execution_count": 4,
      "metadata": {
        "_uuid": "9de88d689da1a279477470f6cef999c0a45bf98a",
        "execution": {
          "iopub.execute_input": "2023-04-16T15:49:48.156941Z",
          "iopub.status.busy": "2023-04-16T15:49:48.156662Z",
          "iopub.status.idle": "2023-04-16T15:49:48.219250Z",
          "shell.execute_reply": "2023-04-16T15:49:48.218422Z",
          "shell.execute_reply.started": "2023-04-16T15:49:48.156887Z"
        },
        "id": "wBU5uwrj1IJ8",
        "outputId": "6ed244b4-8100-4b21-c56a-0fa5bc994903",
        "colab": {
          "base_uri": "https://localhost:8080/",
          "height": 423
        }
      },
      "outputs": [
        {
          "output_type": "execute_result",
          "data": {
            "text/plain": [
              "            Date         Open         High          Low        Close  \\\n",
              "0     2013-01-02   357.385559   361.151062   355.959839   359.288177   \n",
              "1     2013-01-03   360.122742   363.600128   358.031342   359.496826   \n",
              "2     2013-01-04   362.313507   368.339294   361.488861   366.600616   \n",
              "3     2013-01-07   365.348755   367.301056   362.929504   365.001007   \n",
              "4     2013-01-08   365.393463   365.771027   359.874359   364.280701   \n",
              "...          ...          ...          ...          ...          ...   \n",
              "1254  2017-12-22  1061.109985  1064.199951  1059.439941  1060.119995   \n",
              "1255  2017-12-26  1058.069946  1060.119995  1050.199951  1056.739990   \n",
              "1256  2017-12-27  1057.390015  1058.369995  1048.050049  1049.369995   \n",
              "1257  2017-12-28  1051.599976  1054.750000  1044.770020  1048.140015   \n",
              "1258  2017-12-29  1046.719971  1049.699951  1044.900024  1046.400024   \n",
              "\n",
              "        Adj Close   Volume  \n",
              "0      359.288177  5115500  \n",
              "1      359.496826  4666500  \n",
              "2      366.600616  5562800  \n",
              "3      365.001007  3332900  \n",
              "4      364.280701  3373900  \n",
              "...           ...      ...  \n",
              "1254  1060.119995   755100  \n",
              "1255  1056.739990   760600  \n",
              "1256  1049.369995  1271900  \n",
              "1257  1048.140015   837100  \n",
              "1258  1046.400024   887500  \n",
              "\n",
              "[1259 rows x 7 columns]"
            ],
            "text/html": [
              "\n",
              "  <div id=\"df-194395fd-aa9d-4601-8e88-8c775a06509a\">\n",
              "    <div class=\"colab-df-container\">\n",
              "      <div>\n",
              "<style scoped>\n",
              "    .dataframe tbody tr th:only-of-type {\n",
              "        vertical-align: middle;\n",
              "    }\n",
              "\n",
              "    .dataframe tbody tr th {\n",
              "        vertical-align: top;\n",
              "    }\n",
              "\n",
              "    .dataframe thead th {\n",
              "        text-align: right;\n",
              "    }\n",
              "</style>\n",
              "<table border=\"1\" class=\"dataframe\">\n",
              "  <thead>\n",
              "    <tr style=\"text-align: right;\">\n",
              "      <th></th>\n",
              "      <th>Date</th>\n",
              "      <th>Open</th>\n",
              "      <th>High</th>\n",
              "      <th>Low</th>\n",
              "      <th>Close</th>\n",
              "      <th>Adj Close</th>\n",
              "      <th>Volume</th>\n",
              "    </tr>\n",
              "  </thead>\n",
              "  <tbody>\n",
              "    <tr>\n",
              "      <th>0</th>\n",
              "      <td>2013-01-02</td>\n",
              "      <td>357.385559</td>\n",
              "      <td>361.151062</td>\n",
              "      <td>355.959839</td>\n",
              "      <td>359.288177</td>\n",
              "      <td>359.288177</td>\n",
              "      <td>5115500</td>\n",
              "    </tr>\n",
              "    <tr>\n",
              "      <th>1</th>\n",
              "      <td>2013-01-03</td>\n",
              "      <td>360.122742</td>\n",
              "      <td>363.600128</td>\n",
              "      <td>358.031342</td>\n",
              "      <td>359.496826</td>\n",
              "      <td>359.496826</td>\n",
              "      <td>4666500</td>\n",
              "    </tr>\n",
              "    <tr>\n",
              "      <th>2</th>\n",
              "      <td>2013-01-04</td>\n",
              "      <td>362.313507</td>\n",
              "      <td>368.339294</td>\n",
              "      <td>361.488861</td>\n",
              "      <td>366.600616</td>\n",
              "      <td>366.600616</td>\n",
              "      <td>5562800</td>\n",
              "    </tr>\n",
              "    <tr>\n",
              "      <th>3</th>\n",
              "      <td>2013-01-07</td>\n",
              "      <td>365.348755</td>\n",
              "      <td>367.301056</td>\n",
              "      <td>362.929504</td>\n",
              "      <td>365.001007</td>\n",
              "      <td>365.001007</td>\n",
              "      <td>3332900</td>\n",
              "    </tr>\n",
              "    <tr>\n",
              "      <th>4</th>\n",
              "      <td>2013-01-08</td>\n",
              "      <td>365.393463</td>\n",
              "      <td>365.771027</td>\n",
              "      <td>359.874359</td>\n",
              "      <td>364.280701</td>\n",
              "      <td>364.280701</td>\n",
              "      <td>3373900</td>\n",
              "    </tr>\n",
              "    <tr>\n",
              "      <th>...</th>\n",
              "      <td>...</td>\n",
              "      <td>...</td>\n",
              "      <td>...</td>\n",
              "      <td>...</td>\n",
              "      <td>...</td>\n",
              "      <td>...</td>\n",
              "      <td>...</td>\n",
              "    </tr>\n",
              "    <tr>\n",
              "      <th>1254</th>\n",
              "      <td>2017-12-22</td>\n",
              "      <td>1061.109985</td>\n",
              "      <td>1064.199951</td>\n",
              "      <td>1059.439941</td>\n",
              "      <td>1060.119995</td>\n",
              "      <td>1060.119995</td>\n",
              "      <td>755100</td>\n",
              "    </tr>\n",
              "    <tr>\n",
              "      <th>1255</th>\n",
              "      <td>2017-12-26</td>\n",
              "      <td>1058.069946</td>\n",
              "      <td>1060.119995</td>\n",
              "      <td>1050.199951</td>\n",
              "      <td>1056.739990</td>\n",
              "      <td>1056.739990</td>\n",
              "      <td>760600</td>\n",
              "    </tr>\n",
              "    <tr>\n",
              "      <th>1256</th>\n",
              "      <td>2017-12-27</td>\n",
              "      <td>1057.390015</td>\n",
              "      <td>1058.369995</td>\n",
              "      <td>1048.050049</td>\n",
              "      <td>1049.369995</td>\n",
              "      <td>1049.369995</td>\n",
              "      <td>1271900</td>\n",
              "    </tr>\n",
              "    <tr>\n",
              "      <th>1257</th>\n",
              "      <td>2017-12-28</td>\n",
              "      <td>1051.599976</td>\n",
              "      <td>1054.750000</td>\n",
              "      <td>1044.770020</td>\n",
              "      <td>1048.140015</td>\n",
              "      <td>1048.140015</td>\n",
              "      <td>837100</td>\n",
              "    </tr>\n",
              "    <tr>\n",
              "      <th>1258</th>\n",
              "      <td>2017-12-29</td>\n",
              "      <td>1046.719971</td>\n",
              "      <td>1049.699951</td>\n",
              "      <td>1044.900024</td>\n",
              "      <td>1046.400024</td>\n",
              "      <td>1046.400024</td>\n",
              "      <td>887500</td>\n",
              "    </tr>\n",
              "  </tbody>\n",
              "</table>\n",
              "<p>1259 rows × 7 columns</p>\n",
              "</div>\n",
              "      <button class=\"colab-df-convert\" onclick=\"convertToInteractive('df-194395fd-aa9d-4601-8e88-8c775a06509a')\"\n",
              "              title=\"Convert this dataframe to an interactive table.\"\n",
              "              style=\"display:none;\">\n",
              "        \n",
              "  <svg xmlns=\"http://www.w3.org/2000/svg\" height=\"24px\"viewBox=\"0 0 24 24\"\n",
              "       width=\"24px\">\n",
              "    <path d=\"M0 0h24v24H0V0z\" fill=\"none\"/>\n",
              "    <path d=\"M18.56 5.44l.94 2.06.94-2.06 2.06-.94-2.06-.94-.94-2.06-.94 2.06-2.06.94zm-11 1L8.5 8.5l.94-2.06 2.06-.94-2.06-.94L8.5 2.5l-.94 2.06-2.06.94zm10 10l.94 2.06.94-2.06 2.06-.94-2.06-.94-.94-2.06-.94 2.06-2.06.94z\"/><path d=\"M17.41 7.96l-1.37-1.37c-.4-.4-.92-.59-1.43-.59-.52 0-1.04.2-1.43.59L10.3 9.45l-7.72 7.72c-.78.78-.78 2.05 0 2.83L4 21.41c.39.39.9.59 1.41.59.51 0 1.02-.2 1.41-.59l7.78-7.78 2.81-2.81c.8-.78.8-2.07 0-2.86zM5.41 20L4 18.59l7.72-7.72 1.47 1.35L5.41 20z\"/>\n",
              "  </svg>\n",
              "      </button>\n",
              "      \n",
              "  <style>\n",
              "    .colab-df-container {\n",
              "      display:flex;\n",
              "      flex-wrap:wrap;\n",
              "      gap: 12px;\n",
              "    }\n",
              "\n",
              "    .colab-df-convert {\n",
              "      background-color: #E8F0FE;\n",
              "      border: none;\n",
              "      border-radius: 50%;\n",
              "      cursor: pointer;\n",
              "      display: none;\n",
              "      fill: #1967D2;\n",
              "      height: 32px;\n",
              "      padding: 0 0 0 0;\n",
              "      width: 32px;\n",
              "    }\n",
              "\n",
              "    .colab-df-convert:hover {\n",
              "      background-color: #E2EBFA;\n",
              "      box-shadow: 0px 1px 2px rgba(60, 64, 67, 0.3), 0px 1px 3px 1px rgba(60, 64, 67, 0.15);\n",
              "      fill: #174EA6;\n",
              "    }\n",
              "\n",
              "    [theme=dark] .colab-df-convert {\n",
              "      background-color: #3B4455;\n",
              "      fill: #D2E3FC;\n",
              "    }\n",
              "\n",
              "    [theme=dark] .colab-df-convert:hover {\n",
              "      background-color: #434B5C;\n",
              "      box-shadow: 0px 1px 3px 1px rgba(0, 0, 0, 0.15);\n",
              "      filter: drop-shadow(0px 1px 2px rgba(0, 0, 0, 0.3));\n",
              "      fill: #FFFFFF;\n",
              "    }\n",
              "  </style>\n",
              "\n",
              "      <script>\n",
              "        const buttonEl =\n",
              "          document.querySelector('#df-194395fd-aa9d-4601-8e88-8c775a06509a button.colab-df-convert');\n",
              "        buttonEl.style.display =\n",
              "          google.colab.kernel.accessAllowed ? 'block' : 'none';\n",
              "\n",
              "        async function convertToInteractive(key) {\n",
              "          const element = document.querySelector('#df-194395fd-aa9d-4601-8e88-8c775a06509a');\n",
              "          const dataTable =\n",
              "            await google.colab.kernel.invokeFunction('convertToInteractive',\n",
              "                                                     [key], {});\n",
              "          if (!dataTable) return;\n",
              "\n",
              "          const docLinkHtml = 'Like what you see? Visit the ' +\n",
              "            '<a target=\"_blank\" href=https://colab.research.google.com/notebooks/data_table.ipynb>data table notebook</a>'\n",
              "            + ' to learn more about interactive tables.';\n",
              "          element.innerHTML = '';\n",
              "          dataTable['output_type'] = 'display_data';\n",
              "          await google.colab.output.renderOutput(dataTable, element);\n",
              "          const docLink = document.createElement('div');\n",
              "          docLink.innerHTML = docLinkHtml;\n",
              "          element.appendChild(docLink);\n",
              "        }\n",
              "      </script>\n",
              "    </div>\n",
              "  </div>\n",
              "  "
            ]
          },
          "metadata": {},
          "execution_count": 4
        }
      ],
      "source": [
        "dataset_train"
      ]
    },
    {
      "cell_type": "code",
      "execution_count": 5,
      "metadata": {
        "_uuid": "99cca4c05240bd82c4492c6c3c200925c5c096e5",
        "execution": {
          "iopub.execute_input": "2023-04-16T15:49:48.221146Z",
          "iopub.status.busy": "2023-04-16T15:49:48.220845Z",
          "iopub.status.idle": "2023-04-16T15:49:48.227033Z",
          "shell.execute_reply": "2023-04-16T15:49:48.226197Z",
          "shell.execute_reply.started": "2023-04-16T15:49:48.221088Z"
        },
        "id": "LK85ti721IJ8"
      },
      "outputs": [],
      "source": [
        "trainset = dataset_train.iloc[:,1:2].values"
      ]
    },
    {
      "cell_type": "code",
      "execution_count": 6,
      "metadata": {
        "_uuid": "1f00141023a0cc15593c8ef1351883177ca3ba21",
        "execution": {
          "iopub.execute_input": "2023-04-16T15:49:48.228527Z",
          "iopub.status.busy": "2023-04-16T15:49:48.228248Z",
          "iopub.status.idle": "2023-04-16T15:49:48.248658Z",
          "shell.execute_reply": "2023-04-16T15:49:48.247550Z",
          "shell.execute_reply.started": "2023-04-16T15:49:48.228479Z"
        },
        "id": "S7iVUUFX1IJ9",
        "outputId": "fe58ea51-236f-4605-cdf8-03e3220e6f05",
        "colab": {
          "base_uri": "https://localhost:8080/"
        }
      },
      "outputs": [
        {
          "output_type": "execute_result",
          "data": {
            "text/plain": [
              "array([[ 357.385559],\n",
              "       [ 360.122742],\n",
              "       [ 362.313507],\n",
              "       ...,\n",
              "       [1057.390015],\n",
              "       [1051.599976],\n",
              "       [1046.719971]])"
            ]
          },
          "metadata": {},
          "execution_count": 6
        }
      ],
      "source": [
        "trainset"
      ]
    },
    {
      "cell_type": "code",
      "execution_count": 7,
      "metadata": {
        "_uuid": "1abc6fe47fb5c4443767a2e2053cf9999c8a9a5c",
        "execution": {
          "iopub.execute_input": "2023-04-16T15:49:48.250345Z",
          "iopub.status.busy": "2023-04-16T15:49:48.249939Z",
          "iopub.status.idle": "2023-04-16T15:49:49.073833Z",
          "shell.execute_reply": "2023-04-16T15:49:49.072974Z",
          "shell.execute_reply.started": "2023-04-16T15:49:48.250181Z"
        },
        "id": "kcHMqaxz1IJ-"
      },
      "outputs": [],
      "source": [
        "from sklearn.preprocessing import MinMaxScaler\n",
        "sc = MinMaxScaler(feature_range = (0,1))\n",
        "training_scaled = sc.fit_transform(trainset)"
      ]
    },
    {
      "cell_type": "code",
      "execution_count": 8,
      "metadata": {
        "_uuid": "15362ed79df83c13fbddff1889a71f21e968fbc2",
        "execution": {
          "iopub.execute_input": "2023-04-16T15:49:49.075348Z",
          "iopub.status.busy": "2023-04-16T15:49:49.075092Z",
          "iopub.status.idle": "2023-04-16T15:49:49.082002Z",
          "shell.execute_reply": "2023-04-16T15:49:49.080633Z",
          "shell.execute_reply.started": "2023-04-16T15:49:49.075303Z"
        },
        "id": "cILSRTyN1IJ-",
        "outputId": "0d25b085-8a89-4300-d409-7cfdab74fff1",
        "colab": {
          "base_uri": "https://localhost:8080/"
        }
      },
      "outputs": [
        {
          "output_type": "execute_result",
          "data": {
            "text/plain": [
              "array([[0.01011148],\n",
              "       [0.01388614],\n",
              "       [0.01690727],\n",
              "       ...,\n",
              "       [0.97543954],\n",
              "       [0.9674549 ],\n",
              "       [0.96072522]])"
            ]
          },
          "metadata": {},
          "execution_count": 8
        }
      ],
      "source": [
        "training_scaled"
      ]
    },
    {
      "cell_type": "code",
      "execution_count": 9,
      "metadata": {
        "_uuid": "d0d549e9a4af9ab516c3304fb44d650a815dcedc",
        "execution": {
          "iopub.execute_input": "2023-04-16T15:49:49.084059Z",
          "iopub.status.busy": "2023-04-16T15:49:49.083683Z",
          "iopub.status.idle": "2023-04-16T15:49:49.093928Z",
          "shell.execute_reply": "2023-04-16T15:49:49.092913Z",
          "shell.execute_reply.started": "2023-04-16T15:49:49.083995Z"
        },
        "id": "kM7myGwf1IJ-"
      },
      "outputs": [],
      "source": [
        "x_train = []\n",
        "y_train = []"
      ]
    },
    {
      "cell_type": "code",
      "execution_count": 10,
      "metadata": {
        "_uuid": "4c4f8ba0c635e7da0ba1bc52abf0a42068acdc89",
        "execution": {
          "iopub.execute_input": "2023-04-16T15:49:49.095613Z",
          "iopub.status.busy": "2023-04-16T15:49:49.095373Z",
          "iopub.status.idle": "2023-04-16T15:49:49.112533Z",
          "shell.execute_reply": "2023-04-16T15:49:49.111727Z",
          "shell.execute_reply.started": "2023-04-16T15:49:49.095569Z"
        },
        "id": "fExE-q6I1IKA"
      },
      "outputs": [],
      "source": [
        "for i in range(60,1259):\n",
        "    x_train.append(training_scaled[i-60:i, 0])\n",
        "    y_train.append(training_scaled[i,0])\n",
        "x_train,y_train = np.array(x_train),np.array(y_train)"
      ]
    },
    {
      "cell_type": "code",
      "execution_count": 11,
      "metadata": {
        "_uuid": "360eb79902c77fbba3f16ab47a5ff7593a177478",
        "execution": {
          "iopub.execute_input": "2023-04-16T15:49:49.114070Z",
          "iopub.status.busy": "2023-04-16T15:49:49.113836Z",
          "iopub.status.idle": "2023-04-16T15:49:49.128707Z",
          "shell.execute_reply": "2023-04-16T15:49:49.127743Z",
          "shell.execute_reply.started": "2023-04-16T15:49:49.114033Z"
        },
        "id": "zAyAURIp1IKA",
        "outputId": "3daeae3b-64fd-4b3f-d8d2-79f308c2b5f3",
        "colab": {
          "base_uri": "https://localhost:8080/"
        }
      },
      "outputs": [
        {
          "output_type": "execute_result",
          "data": {
            "text/plain": [
              "(1199, 60)"
            ]
          },
          "metadata": {},
          "execution_count": 11
        }
      ],
      "source": [
        "x_train.shape"
      ]
    },
    {
      "cell_type": "code",
      "execution_count": 12,
      "metadata": {
        "_uuid": "316c5775b5c0a984b432f138792d2c0e9a484491",
        "execution": {
          "iopub.execute_input": "2023-04-16T15:49:49.130080Z",
          "iopub.status.busy": "2023-04-16T15:49:49.129745Z",
          "iopub.status.idle": "2023-04-16T15:49:49.142786Z",
          "shell.execute_reply": "2023-04-16T15:49:49.141990Z",
          "shell.execute_reply.started": "2023-04-16T15:49:49.130028Z"
        },
        "id": "M9FrP17Y1IKB"
      },
      "outputs": [],
      "source": [
        "x_train = np.reshape(x_train, (x_train.shape[0],x_train.shape[1],1))"
      ]
    },
    {
      "cell_type": "code",
      "execution_count": 13,
      "metadata": {
        "_uuid": "28f5242c6f1961914d1f568e70228fd30c1cb7fa",
        "execution": {
          "iopub.execute_input": "2023-04-16T15:49:49.143874Z",
          "iopub.status.busy": "2023-04-16T15:49:49.143650Z",
          "iopub.status.idle": "2023-04-16T15:49:49.284103Z",
          "shell.execute_reply": "2023-04-16T15:49:49.283269Z",
          "shell.execute_reply.started": "2023-04-16T15:49:49.143826Z"
        },
        "id": "5OdhkT421IKC"
      },
      "outputs": [],
      "source": [
        "from keras.models import Sequential\n",
        "from keras.layers import Dense\n",
        "from keras.layers import LSTM\n",
        "from keras.layers import Dropout"
      ]
    },
    {
      "cell_type": "code",
      "execution_count": 14,
      "metadata": {
        "_uuid": "ed24d733423254641f134c0e84f44a8ce175589f",
        "execution": {
          "iopub.execute_input": "2023-04-16T15:49:49.285893Z",
          "iopub.status.busy": "2023-04-16T15:49:49.285589Z",
          "iopub.status.idle": "2023-04-16T15:49:49.619921Z",
          "shell.execute_reply": "2023-04-16T15:49:49.619152Z",
          "shell.execute_reply.started": "2023-04-16T15:49:49.285833Z"
        },
        "id": "Jwvy8p9M1IKC"
      },
      "outputs": [],
      "source": [
        "regressor = Sequential()\n",
        "regressor.add(LSTM(units = 50,return_sequences = True,input_shape = (x_train.shape[1],1)))"
      ]
    },
    {
      "cell_type": "code",
      "execution_count": 15,
      "metadata": {
        "_uuid": "e7b3dd133e58cb2acc860a8cfcd1483ba70e6b1b",
        "execution": {
          "iopub.execute_input": "2023-04-16T15:49:49.621331Z",
          "iopub.status.busy": "2023-04-16T15:49:49.621081Z",
          "iopub.status.idle": "2023-04-16T15:49:49.644680Z",
          "shell.execute_reply": "2023-04-16T15:49:49.643857Z",
          "shell.execute_reply.started": "2023-04-16T15:49:49.621273Z"
        },
        "id": "MU4Tmq1L1IKD"
      },
      "outputs": [],
      "source": [
        "regressor.add(Dropout(0.2))"
      ]
    },
    {
      "cell_type": "code",
      "execution_count": 16,
      "metadata": {
        "_uuid": "6b746176cb04357ac1e4c3e4c91ecd70717fed47",
        "execution": {
          "iopub.execute_input": "2023-04-16T15:49:49.646254Z",
          "iopub.status.busy": "2023-04-16T15:49:49.646017Z",
          "iopub.status.idle": "2023-04-16T15:49:49.936494Z",
          "shell.execute_reply": "2023-04-16T15:49:49.935442Z",
          "shell.execute_reply.started": "2023-04-16T15:49:49.646210Z"
        },
        "id": "cRrP6yKw1IKD"
      },
      "outputs": [],
      "source": [
        "regressor.add(LSTM(units = 50,return_sequences = True))\n",
        "regressor.add(Dropout(0.2))"
      ]
    },
    {
      "cell_type": "code",
      "execution_count": 17,
      "metadata": {
        "_uuid": "73fe0b95d62b599e8aae4e2a53a10bc7165f464c",
        "execution": {
          "iopub.execute_input": "2023-04-16T15:49:49.938033Z",
          "iopub.status.busy": "2023-04-16T15:49:49.937772Z",
          "iopub.status.idle": "2023-04-16T15:49:50.238273Z",
          "shell.execute_reply": "2023-04-16T15:49:50.237271Z",
          "shell.execute_reply.started": "2023-04-16T15:49:49.937994Z"
        },
        "id": "4Q5dnZJA1IKD"
      },
      "outputs": [],
      "source": [
        "regressor.add(LSTM(units = 50,return_sequences = True))\n",
        "regressor.add(Dropout(0.2))"
      ]
    },
    {
      "cell_type": "code",
      "execution_count": 18,
      "metadata": {
        "_uuid": "8c81a80d2ea3cdf653675def0bbba5f9572e8770",
        "execution": {
          "iopub.execute_input": "2023-04-16T15:49:50.240315Z",
          "iopub.status.busy": "2023-04-16T15:49:50.239903Z",
          "iopub.status.idle": "2023-04-16T15:49:50.538934Z",
          "shell.execute_reply": "2023-04-16T15:49:50.538056Z",
          "shell.execute_reply.started": "2023-04-16T15:49:50.240228Z"
        },
        "id": "Adc1uuZA1IKD"
      },
      "outputs": [],
      "source": [
        "regressor.add(LSTM(units = 50))\n",
        "regressor.add(Dropout(0.2))"
      ]
    },
    {
      "cell_type": "code",
      "execution_count": 19,
      "metadata": {
        "_uuid": "2edc2684995e0033ae8a4997b61b92a66c5bceee",
        "execution": {
          "iopub.execute_input": "2023-04-16T15:49:50.540627Z",
          "iopub.status.busy": "2023-04-16T15:49:50.540227Z",
          "iopub.status.idle": "2023-04-16T15:49:50.565831Z",
          "shell.execute_reply": "2023-04-16T15:49:50.564761Z",
          "shell.execute_reply.started": "2023-04-16T15:49:50.540555Z"
        },
        "id": "ksQeEnkr1IKE"
      },
      "outputs": [],
      "source": [
        "regressor.add(Dense(units = 1))"
      ]
    },
    {
      "cell_type": "code",
      "execution_count": 20,
      "metadata": {
        "_uuid": "6681ff55d9a29b1ad0f37cdc82318fb2c8fbc0bd",
        "execution": {
          "iopub.execute_input": "2023-04-16T15:49:50.567880Z",
          "iopub.status.busy": "2023-04-16T15:49:50.567541Z",
          "iopub.status.idle": "2023-04-16T15:49:50.608044Z",
          "shell.execute_reply": "2023-04-16T15:49:50.607296Z",
          "shell.execute_reply.started": "2023-04-16T15:49:50.567809Z"
        },
        "id": "qh8beObo1IKE"
      },
      "outputs": [],
      "source": [
        "regressor.compile(optimizer = 'adam',loss = 'mean_squared_error')"
      ]
    },
    {
      "cell_type": "code",
      "execution_count": 21,
      "metadata": {
        "_uuid": "b0287226b32109016b659a8ba484b5eb51e0d61a",
        "execution": {
          "iopub.execute_input": "2023-04-16T15:49:50.610165Z",
          "iopub.status.busy": "2023-04-16T15:49:50.609798Z",
          "iopub.status.idle": "2023-04-16T16:04:57.726028Z",
          "shell.execute_reply": "2023-04-16T16:04:57.725271Z",
          "shell.execute_reply.started": "2023-04-16T15:49:50.610085Z"
        },
        "id": "Ocablh5f1IKF",
        "outputId": "98607dc1-6db9-48a6-bccc-d212ad10a791",
        "colab": {
          "base_uri": "https://localhost:8080/"
        }
      },
      "outputs": [
        {
          "output_type": "stream",
          "name": "stdout",
          "text": [
            "Epoch 1/100\n",
            "38/38 [==============================] - 14s 119ms/step - loss: 0.0297\n",
            "Epoch 2/100\n",
            "38/38 [==============================] - 5s 120ms/step - loss: 0.0046\n",
            "Epoch 3/100\n",
            "38/38 [==============================] - 6s 158ms/step - loss: 0.0042\n",
            "Epoch 4/100\n",
            "38/38 [==============================] - 5s 120ms/step - loss: 0.0040\n",
            "Epoch 5/100\n",
            "38/38 [==============================] - 5s 138ms/step - loss: 0.0039\n",
            "Epoch 6/100\n",
            "38/38 [==============================] - 5s 134ms/step - loss: 0.0034\n",
            "Epoch 7/100\n",
            "38/38 [==============================] - 4s 118ms/step - loss: 0.0037\n",
            "Epoch 8/100\n",
            "38/38 [==============================] - 6s 158ms/step - loss: 0.0035\n",
            "Epoch 9/100\n",
            "38/38 [==============================] - 4s 117ms/step - loss: 0.0034\n",
            "Epoch 10/100\n",
            "38/38 [==============================] - 5s 120ms/step - loss: 0.0035\n",
            "Epoch 11/100\n",
            "38/38 [==============================] - 6s 158ms/step - loss: 0.0031\n",
            "Epoch 12/100\n",
            "38/38 [==============================] - 4s 118ms/step - loss: 0.0029\n",
            "Epoch 13/100\n",
            "38/38 [==============================] - 5s 134ms/step - loss: 0.0031\n",
            "Epoch 14/100\n",
            "38/38 [==============================] - 5s 142ms/step - loss: 0.0029\n",
            "Epoch 15/100\n",
            "38/38 [==============================] - 5s 119ms/step - loss: 0.0029\n",
            "Epoch 16/100\n",
            "38/38 [==============================] - 6s 159ms/step - loss: 0.0027\n",
            "Epoch 17/100\n",
            "38/38 [==============================] - 4s 118ms/step - loss: 0.0028\n",
            "Epoch 18/100\n",
            "38/38 [==============================] - 4s 117ms/step - loss: 0.0026\n",
            "Epoch 19/100\n",
            "38/38 [==============================] - 6s 158ms/step - loss: 0.0029\n",
            "Epoch 20/100\n",
            "38/38 [==============================] - 5s 118ms/step - loss: 0.0031\n",
            "Epoch 21/100\n",
            "38/38 [==============================] - 5s 125ms/step - loss: 0.0024\n",
            "Epoch 22/100\n",
            "38/38 [==============================] - 6s 150ms/step - loss: 0.0024\n",
            "Epoch 23/100\n",
            "38/38 [==============================] - 5s 120ms/step - loss: 0.0026\n",
            "Epoch 24/100\n",
            "38/38 [==============================] - 6s 156ms/step - loss: 0.0021\n",
            "Epoch 25/100\n",
            "38/38 [==============================] - 5s 120ms/step - loss: 0.0024\n",
            "Epoch 26/100\n",
            "38/38 [==============================] - 4s 118ms/step - loss: 0.0024\n",
            "Epoch 27/100\n",
            "38/38 [==============================] - 6s 160ms/step - loss: 0.0021\n",
            "Epoch 28/100\n",
            "38/38 [==============================] - 5s 118ms/step - loss: 0.0021\n",
            "Epoch 29/100\n",
            "38/38 [==============================] - 5s 125ms/step - loss: 0.0022\n",
            "Epoch 30/100\n",
            "38/38 [==============================] - 6s 151ms/step - loss: 0.0021\n",
            "Epoch 31/100\n",
            "38/38 [==============================] - 4s 117ms/step - loss: 0.0020\n",
            "Epoch 32/100\n",
            "38/38 [==============================] - 6s 151ms/step - loss: 0.0021\n",
            "Epoch 33/100\n",
            "38/38 [==============================] - 5s 124ms/step - loss: 0.0024\n",
            "Epoch 34/100\n",
            "38/38 [==============================] - 4s 116ms/step - loss: 0.0021\n",
            "Epoch 35/100\n",
            "38/38 [==============================] - 6s 157ms/step - loss: 0.0019\n",
            "Epoch 36/100\n",
            "38/38 [==============================] - 5s 119ms/step - loss: 0.0019\n",
            "Epoch 37/100\n",
            "38/38 [==============================] - 5s 123ms/step - loss: 0.0019\n",
            "Epoch 38/100\n",
            "38/38 [==============================] - 6s 154ms/step - loss: 0.0018\n",
            "Epoch 39/100\n",
            "38/38 [==============================] - 5s 119ms/step - loss: 0.0019\n",
            "Epoch 40/100\n",
            "38/38 [==============================] - 6s 149ms/step - loss: 0.0018\n",
            "Epoch 41/100\n",
            "38/38 [==============================] - 5s 128ms/step - loss: 0.0019\n",
            "Epoch 42/100\n",
            "38/38 [==============================] - 4s 118ms/step - loss: 0.0020\n",
            "Epoch 43/100\n",
            "38/38 [==============================] - 6s 158ms/step - loss: 0.0017\n",
            "Epoch 44/100\n",
            "38/38 [==============================] - 4s 118ms/step - loss: 0.0018\n",
            "Epoch 45/100\n",
            "38/38 [==============================] - 5s 119ms/step - loss: 0.0017\n",
            "Epoch 46/100\n",
            "38/38 [==============================] - 6s 158ms/step - loss: 0.0017\n",
            "Epoch 47/100\n",
            "38/38 [==============================] - 4s 117ms/step - loss: 0.0016\n",
            "Epoch 48/100\n",
            "38/38 [==============================] - 5s 140ms/step - loss: 0.0016\n",
            "Epoch 49/100\n",
            "38/38 [==============================] - 5s 135ms/step - loss: 0.0017\n",
            "Epoch 50/100\n",
            "38/38 [==============================] - 4s 118ms/step - loss: 0.0016\n",
            "Epoch 51/100\n",
            "38/38 [==============================] - 6s 158ms/step - loss: 0.0016\n",
            "Epoch 52/100\n",
            "38/38 [==============================] - 5s 122ms/step - loss: 0.0018\n",
            "Epoch 53/100\n",
            "38/38 [==============================] - 5s 118ms/step - loss: 0.0015\n",
            "Epoch 54/100\n",
            "38/38 [==============================] - 6s 158ms/step - loss: 0.0017\n",
            "Epoch 55/100\n",
            "38/38 [==============================] - 5s 119ms/step - loss: 0.0016\n",
            "Epoch 56/100\n",
            "38/38 [==============================] - 5s 138ms/step - loss: 0.0015\n",
            "Epoch 57/100\n",
            "38/38 [==============================] - 5s 140ms/step - loss: 0.0016\n",
            "Epoch 58/100\n",
            "38/38 [==============================] - 5s 119ms/step - loss: 0.0014\n",
            "Epoch 59/100\n",
            "38/38 [==============================] - 6s 160ms/step - loss: 0.0016\n",
            "Epoch 60/100\n",
            "38/38 [==============================] - 5s 120ms/step - loss: 0.0015\n",
            "Epoch 61/100\n",
            "38/38 [==============================] - 5s 120ms/step - loss: 0.0014\n",
            "Epoch 62/100\n",
            "38/38 [==============================] - 6s 159ms/step - loss: 0.0013\n",
            "Epoch 63/100\n",
            "38/38 [==============================] - 5s 120ms/step - loss: 0.0013\n",
            "Epoch 64/100\n",
            "38/38 [==============================] - 5s 139ms/step - loss: 0.0013\n",
            "Epoch 65/100\n",
            "38/38 [==============================] - 5s 137ms/step - loss: 0.0014\n",
            "Epoch 66/100\n",
            "38/38 [==============================] - 4s 118ms/step - loss: 0.0014\n",
            "Epoch 67/100\n",
            "38/38 [==============================] - 6s 158ms/step - loss: 0.0013\n",
            "Epoch 68/100\n",
            "38/38 [==============================] - 4s 118ms/step - loss: 0.0015\n",
            "Epoch 69/100\n",
            "38/38 [==============================] - 4s 118ms/step - loss: 0.0013\n",
            "Epoch 70/100\n",
            "38/38 [==============================] - 6s 161ms/step - loss: 0.0014\n",
            "Epoch 71/100\n",
            "38/38 [==============================] - 4s 118ms/step - loss: 0.0012\n",
            "Epoch 72/100\n",
            "38/38 [==============================] - 5s 144ms/step - loss: 0.0014\n",
            "Epoch 73/100\n",
            "38/38 [==============================] - 5s 136ms/step - loss: 0.0014\n",
            "Epoch 74/100\n",
            "38/38 [==============================] - 4s 117ms/step - loss: 0.0014\n",
            "Epoch 75/100\n",
            "38/38 [==============================] - 6s 157ms/step - loss: 0.0013\n",
            "Epoch 76/100\n",
            "38/38 [==============================] - 5s 119ms/step - loss: 0.0012\n",
            "Epoch 77/100\n",
            "38/38 [==============================] - 5s 120ms/step - loss: 0.0012\n",
            "Epoch 78/100\n",
            "38/38 [==============================] - 6s 160ms/step - loss: 0.0012\n",
            "Epoch 79/100\n",
            "38/38 [==============================] - 5s 120ms/step - loss: 0.0013\n",
            "Epoch 80/100\n",
            "38/38 [==============================] - 5s 140ms/step - loss: 0.0011\n",
            "Epoch 81/100\n",
            "38/38 [==============================] - 5s 136ms/step - loss: 0.0012\n",
            "Epoch 82/100\n",
            "38/38 [==============================] - 5s 122ms/step - loss: 0.0012\n",
            "Epoch 83/100\n",
            "38/38 [==============================] - 6s 159ms/step - loss: 0.0012\n",
            "Epoch 84/100\n",
            "38/38 [==============================] - 5s 119ms/step - loss: 0.0012\n",
            "Epoch 85/100\n",
            "38/38 [==============================] - 5s 119ms/step - loss: 0.0012\n",
            "Epoch 86/100\n",
            "38/38 [==============================] - 6s 159ms/step - loss: 0.0010\n",
            "Epoch 87/100\n",
            "38/38 [==============================] - 4s 118ms/step - loss: 0.0010\n",
            "Epoch 88/100\n",
            "38/38 [==============================] - 5s 140ms/step - loss: 0.0013\n",
            "Epoch 89/100\n",
            "38/38 [==============================] - 5s 135ms/step - loss: 0.0011\n",
            "Epoch 90/100\n",
            "38/38 [==============================] - 4s 116ms/step - loss: 0.0012\n",
            "Epoch 91/100\n",
            "38/38 [==============================] - 6s 156ms/step - loss: 9.8411e-04\n",
            "Epoch 92/100\n",
            "38/38 [==============================] - 4s 117ms/step - loss: 0.0010\n",
            "Epoch 93/100\n",
            "38/38 [==============================] - 4s 118ms/step - loss: 0.0011\n",
            "Epoch 94/100\n",
            "38/38 [==============================] - 6s 158ms/step - loss: 9.6562e-04\n",
            "Epoch 95/100\n",
            "38/38 [==============================] - 4s 118ms/step - loss: 0.0012\n",
            "Epoch 96/100\n",
            "38/38 [==============================] - 9s 230ms/step - loss: 9.8893e-04\n",
            "Epoch 97/100\n",
            "38/38 [==============================] - 9s 240ms/step - loss: 9.8556e-04\n",
            "Epoch 98/100\n",
            "38/38 [==============================] - 6s 159ms/step - loss: 0.0011\n",
            "Epoch 99/100\n",
            "38/38 [==============================] - 4s 118ms/step - loss: 0.0012\n",
            "Epoch 100/100\n",
            "38/38 [==============================] - 5s 140ms/step - loss: 9.2011e-04\n"
          ]
        },
        {
          "output_type": "execute_result",
          "data": {
            "text/plain": [
              "<keras.callbacks.History at 0x7f77c41faf10>"
            ]
          },
          "metadata": {},
          "execution_count": 21
        }
      ],
      "source": [
        "regressor.fit(x_train,y_train,epochs = 100, batch_size = 32)"
      ]
    },
    {
      "cell_type": "code",
      "execution_count": 22,
      "metadata": {
        "_uuid": "16e063f81273faee696d9db103673ad2b88fda50",
        "execution": {
          "iopub.execute_input": "2023-04-16T16:04:57.729687Z",
          "iopub.status.busy": "2023-04-16T16:04:57.729440Z",
          "iopub.status.idle": "2023-04-16T16:04:57.744674Z",
          "shell.execute_reply": "2023-04-16T16:04:57.743901Z",
          "shell.execute_reply.started": "2023-04-16T16:04:57.729648Z"
        },
        "id": "WNDRMgd11IKF"
      },
      "outputs": [],
      "source": [
        "dataset_test =pd.read_csv(\"testset.csv\")"
      ]
    },
    {
      "cell_type": "code",
      "execution_count": 23,
      "metadata": {
        "_uuid": "6acd6a66dc0f9c013ea008c0d99734697757cae6",
        "execution": {
          "iopub.execute_input": "2023-04-16T16:04:57.746256Z",
          "iopub.status.busy": "2023-04-16T16:04:57.745787Z",
          "iopub.status.idle": "2023-04-16T16:04:57.755975Z",
          "shell.execute_reply": "2023-04-16T16:04:57.754830Z",
          "shell.execute_reply.started": "2023-04-16T16:04:57.746207Z"
        },
        "id": "5vA_Ob9q1IKF"
      },
      "outputs": [],
      "source": [
        "real_stock_price = dataset_test.iloc[:,1:2].values"
      ]
    },
    {
      "cell_type": "code",
      "execution_count": 24,
      "metadata": {
        "_uuid": "b65a0a5b78f98a5ac13dee98e9738fd61426bfd0",
        "execution": {
          "iopub.execute_input": "2023-04-16T16:04:57.757513Z",
          "iopub.status.busy": "2023-04-16T16:04:57.757163Z",
          "iopub.status.idle": "2023-04-16T16:04:57.781725Z",
          "shell.execute_reply": "2023-04-16T16:04:57.780471Z",
          "shell.execute_reply.started": "2023-04-16T16:04:57.757447Z"
        },
        "id": "ky_gKEWb1IKF",
        "outputId": "947f5a8a-e4f4-41fe-bbd5-76633c370280",
        "colab": {
          "base_uri": "https://localhost:8080/"
        }
      },
      "outputs": [
        {
          "output_type": "execute_result",
          "data": {
            "text/plain": [
              "0       357.385559\n",
              "1       360.122742\n",
              "2       362.313507\n",
              "3       365.348755\n",
              "4       365.393463\n",
              "          ...     \n",
              "120    1143.599976\n",
              "121    1128.000000\n",
              "122    1121.339966\n",
              "123    1102.089966\n",
              "124    1120.000000\n",
              "Name: Open, Length: 1384, dtype: float64"
            ]
          },
          "metadata": {},
          "execution_count": 24
        }
      ],
      "source": [
        "dataset_total = pd.concat((dataset_train['Open'],dataset_test['Open']),axis = 0)\n",
        "dataset_total"
      ]
    },
    {
      "cell_type": "code",
      "execution_count": 25,
      "metadata": {
        "_uuid": "31aa33ed70b08e71d0e8bfe4c1abae7901ab947d",
        "execution": {
          "iopub.execute_input": "2023-04-16T16:04:57.784181Z",
          "iopub.status.busy": "2023-04-16T16:04:57.783448Z",
          "iopub.status.idle": "2023-04-16T16:04:57.794852Z",
          "shell.execute_reply": "2023-04-16T16:04:57.793790Z",
          "shell.execute_reply.started": "2023-04-16T16:04:57.784113Z"
        },
        "id": "6ooO0_bw1IKG",
        "outputId": "d751820b-6582-4869-c5ec-3a5a771f8347",
        "colab": {
          "base_uri": "https://localhost:8080/"
        }
      },
      "outputs": [
        {
          "output_type": "execute_result",
          "data": {
            "text/plain": [
              "array([ 955.48999 ,  966.700012,  980.      ,  980.      ,  973.719971,\n",
              "        987.450012,  992.      ,  992.099976,  990.289978,  991.77002 ,\n",
              "        986.      ,  989.440002,  989.52002 ,  970.      ,  968.369995,\n",
              "        980.      , 1009.190002, 1014.      , 1015.219971, 1017.210022,\n",
              "       1021.76001 , 1022.109985, 1028.98999 , 1027.27002 , 1030.52002 ,\n",
              "       1033.98999 , 1026.459961, 1023.419983, 1022.590027, 1019.210022,\n",
              "       1022.52002 , 1034.01001 , 1020.26001 , 1023.309998, 1035.      ,\n",
              "       1035.869995, 1040.      , 1055.089966, 1042.680054, 1022.369995,\n",
              "       1015.799988, 1012.659973,  995.940002, 1001.5     , 1020.429993,\n",
              "       1037.48999 , 1035.5     , 1039.630005, 1046.119995, 1045.      ,\n",
              "       1054.609985, 1066.079956, 1075.199951, 1071.780029, 1064.949951,\n",
              "       1061.109985, 1058.069946, 1057.390015, 1051.599976, 1046.719971,\n",
              "       1048.339966, 1064.310059, 1088.      , 1094.      , 1102.22998 ,\n",
              "       1109.400024, 1097.099976, 1106.300049, 1102.410034, 1132.51001 ,\n",
              "       1126.219971, 1131.410034, 1131.829956, 1137.48999 , 1159.849976,\n",
              "       1177.329956, 1172.530029, 1175.079956, 1176.47998 , 1167.829956,\n",
              "       1170.569946, 1162.609985, 1122.      , 1090.599976, 1027.180054,\n",
              "       1081.540039, 1055.410034, 1017.25    , 1048.      , 1045.      ,\n",
              "       1048.949951, 1079.069946, 1088.410034, 1090.569946, 1106.469971,\n",
              "       1116.189941, 1112.640015, 1127.800049, 1141.23999 , 1123.030029,\n",
              "       1107.869995, 1053.079956, 1075.140015, 1099.219971, 1089.189941,\n",
              "       1115.319946, 1136.      , 1163.849976, 1170.      , 1145.209961,\n",
              "       1149.959961, 1154.140015, 1120.01001 , 1099.      , 1092.73999 ,\n",
              "       1081.880005, 1047.030029, 1046.      , 1063.      ,  998.      ,\n",
              "       1011.630005, 1022.820007, 1013.909973,  993.409973, 1041.329956,\n",
              "       1020.      , 1016.799988, 1026.439941, 1027.98999 , 1025.040039,\n",
              "       1040.880005, 1037.      , 1051.369995, 1077.430054, 1069.400024,\n",
              "       1082.      , 1077.859985, 1052.      , 1025.52002 , 1029.51001 ,\n",
              "       1046.      , 1030.01001 , 1013.659973, 1028.099976, 1019.      ,\n",
              "       1016.900024, 1049.22998 , 1058.540039, 1058.099976, 1086.030029,\n",
              "       1093.599976, 1100.      , 1090.      , 1077.310059, 1079.890015,\n",
              "       1061.859985, 1074.060059, 1083.560059, 1065.130005, 1079.      ,\n",
              "       1079.02002 , 1064.890015, 1063.030029, 1067.560059, 1099.349976,\n",
              "       1122.329956, 1140.98999 , 1142.170044, 1131.319946, 1118.180054,\n",
              "       1118.599976, 1131.069946, 1141.119995, 1143.849976, 1148.859985,\n",
              "       1143.650024, 1158.5     , 1175.310059, 1174.849976, 1159.140015,\n",
              "       1143.599976, 1128.      , 1121.339966, 1102.089966, 1120.      ])"
            ]
          },
          "metadata": {},
          "execution_count": 25
        }
      ],
      "source": [
        "inputs = dataset_total[len(dataset_total) - len(dataset_test)-60:].values\n",
        "inputs"
      ]
    },
    {
      "cell_type": "code",
      "execution_count": 26,
      "metadata": {
        "_uuid": "7d74568c439acc8dda77dc4365d4b413095508e1",
        "execution": {
          "iopub.execute_input": "2023-04-16T16:04:57.796404Z",
          "iopub.status.busy": "2023-04-16T16:04:57.796106Z",
          "iopub.status.idle": "2023-04-16T16:04:57.806365Z",
          "shell.execute_reply": "2023-04-16T16:04:57.804900Z",
          "shell.execute_reply.started": "2023-04-16T16:04:57.796346Z"
        },
        "id": "6-LfWO6x1IKG"
      },
      "outputs": [],
      "source": [
        "inputs = inputs.reshape(-1,1)"
      ]
    },
    {
      "cell_type": "code",
      "execution_count": 27,
      "metadata": {
        "_uuid": "17b170e861d1353ece8aec66f700886106da4aef",
        "execution": {
          "iopub.execute_input": "2023-04-16T16:04:57.808561Z",
          "iopub.status.busy": "2023-04-16T16:04:57.808019Z",
          "iopub.status.idle": "2023-04-16T16:04:57.825529Z",
          "shell.execute_reply": "2023-04-16T16:04:57.824462Z",
          "shell.execute_reply.started": "2023-04-16T16:04:57.808499Z"
        },
        "id": "OvOqcMuB1IKG",
        "outputId": "76325651-ba2f-4df6-ab36-5e47194e1d1b",
        "colab": {
          "base_uri": "https://localhost:8080/"
        }
      },
      "outputs": [
        {
          "output_type": "execute_result",
          "data": {
            "text/plain": [
              "array([[ 955.48999 ],\n",
              "       [ 966.700012],\n",
              "       [ 980.      ],\n",
              "       [ 980.      ],\n",
              "       [ 973.719971],\n",
              "       [ 987.450012],\n",
              "       [ 992.      ],\n",
              "       [ 992.099976],\n",
              "       [ 990.289978],\n",
              "       [ 991.77002 ],\n",
              "       [ 986.      ],\n",
              "       [ 989.440002],\n",
              "       [ 989.52002 ],\n",
              "       [ 970.      ],\n",
              "       [ 968.369995],\n",
              "       [ 980.      ],\n",
              "       [1009.190002],\n",
              "       [1014.      ],\n",
              "       [1015.219971],\n",
              "       [1017.210022],\n",
              "       [1021.76001 ],\n",
              "       [1022.109985],\n",
              "       [1028.98999 ],\n",
              "       [1027.27002 ],\n",
              "       [1030.52002 ],\n",
              "       [1033.98999 ],\n",
              "       [1026.459961],\n",
              "       [1023.419983],\n",
              "       [1022.590027],\n",
              "       [1019.210022],\n",
              "       [1022.52002 ],\n",
              "       [1034.01001 ],\n",
              "       [1020.26001 ],\n",
              "       [1023.309998],\n",
              "       [1035.      ],\n",
              "       [1035.869995],\n",
              "       [1040.      ],\n",
              "       [1055.089966],\n",
              "       [1042.680054],\n",
              "       [1022.369995],\n",
              "       [1015.799988],\n",
              "       [1012.659973],\n",
              "       [ 995.940002],\n",
              "       [1001.5     ],\n",
              "       [1020.429993],\n",
              "       [1037.48999 ],\n",
              "       [1035.5     ],\n",
              "       [1039.630005],\n",
              "       [1046.119995],\n",
              "       [1045.      ],\n",
              "       [1054.609985],\n",
              "       [1066.079956],\n",
              "       [1075.199951],\n",
              "       [1071.780029],\n",
              "       [1064.949951],\n",
              "       [1061.109985],\n",
              "       [1058.069946],\n",
              "       [1057.390015],\n",
              "       [1051.599976],\n",
              "       [1046.719971],\n",
              "       [1048.339966],\n",
              "       [1064.310059],\n",
              "       [1088.      ],\n",
              "       [1094.      ],\n",
              "       [1102.22998 ],\n",
              "       [1109.400024],\n",
              "       [1097.099976],\n",
              "       [1106.300049],\n",
              "       [1102.410034],\n",
              "       [1132.51001 ],\n",
              "       [1126.219971],\n",
              "       [1131.410034],\n",
              "       [1131.829956],\n",
              "       [1137.48999 ],\n",
              "       [1159.849976],\n",
              "       [1177.329956],\n",
              "       [1172.530029],\n",
              "       [1175.079956],\n",
              "       [1176.47998 ],\n",
              "       [1167.829956],\n",
              "       [1170.569946],\n",
              "       [1162.609985],\n",
              "       [1122.      ],\n",
              "       [1090.599976],\n",
              "       [1027.180054],\n",
              "       [1081.540039],\n",
              "       [1055.410034],\n",
              "       [1017.25    ],\n",
              "       [1048.      ],\n",
              "       [1045.      ],\n",
              "       [1048.949951],\n",
              "       [1079.069946],\n",
              "       [1088.410034],\n",
              "       [1090.569946],\n",
              "       [1106.469971],\n",
              "       [1116.189941],\n",
              "       [1112.640015],\n",
              "       [1127.800049],\n",
              "       [1141.23999 ],\n",
              "       [1123.030029],\n",
              "       [1107.869995],\n",
              "       [1053.079956],\n",
              "       [1075.140015],\n",
              "       [1099.219971],\n",
              "       [1089.189941],\n",
              "       [1115.319946],\n",
              "       [1136.      ],\n",
              "       [1163.849976],\n",
              "       [1170.      ],\n",
              "       [1145.209961],\n",
              "       [1149.959961],\n",
              "       [1154.140015],\n",
              "       [1120.01001 ],\n",
              "       [1099.      ],\n",
              "       [1092.73999 ],\n",
              "       [1081.880005],\n",
              "       [1047.030029],\n",
              "       [1046.      ],\n",
              "       [1063.      ],\n",
              "       [ 998.      ],\n",
              "       [1011.630005],\n",
              "       [1022.820007],\n",
              "       [1013.909973],\n",
              "       [ 993.409973],\n",
              "       [1041.329956],\n",
              "       [1020.      ],\n",
              "       [1016.799988],\n",
              "       [1026.439941],\n",
              "       [1027.98999 ],\n",
              "       [1025.040039],\n",
              "       [1040.880005],\n",
              "       [1037.      ],\n",
              "       [1051.369995],\n",
              "       [1077.430054],\n",
              "       [1069.400024],\n",
              "       [1082.      ],\n",
              "       [1077.859985],\n",
              "       [1052.      ],\n",
              "       [1025.52002 ],\n",
              "       [1029.51001 ],\n",
              "       [1046.      ],\n",
              "       [1030.01001 ],\n",
              "       [1013.659973],\n",
              "       [1028.099976],\n",
              "       [1019.      ],\n",
              "       [1016.900024],\n",
              "       [1049.22998 ],\n",
              "       [1058.540039],\n",
              "       [1058.099976],\n",
              "       [1086.030029],\n",
              "       [1093.599976],\n",
              "       [1100.      ],\n",
              "       [1090.      ],\n",
              "       [1077.310059],\n",
              "       [1079.890015],\n",
              "       [1061.859985],\n",
              "       [1074.060059],\n",
              "       [1083.560059],\n",
              "       [1065.130005],\n",
              "       [1079.      ],\n",
              "       [1079.02002 ],\n",
              "       [1064.890015],\n",
              "       [1063.030029],\n",
              "       [1067.560059],\n",
              "       [1099.349976],\n",
              "       [1122.329956],\n",
              "       [1140.98999 ],\n",
              "       [1142.170044],\n",
              "       [1131.319946],\n",
              "       [1118.180054],\n",
              "       [1118.599976],\n",
              "       [1131.069946],\n",
              "       [1141.119995],\n",
              "       [1143.849976],\n",
              "       [1148.859985],\n",
              "       [1143.650024],\n",
              "       [1158.5     ],\n",
              "       [1175.310059],\n",
              "       [1174.849976],\n",
              "       [1159.140015],\n",
              "       [1143.599976],\n",
              "       [1128.      ],\n",
              "       [1121.339966],\n",
              "       [1102.089966],\n",
              "       [1120.      ]])"
            ]
          },
          "metadata": {},
          "execution_count": 27
        }
      ],
      "source": [
        "inputs"
      ]
    },
    {
      "cell_type": "code",
      "execution_count": 28,
      "metadata": {
        "_uuid": "b4003370fb6454d0493ef80b1b50ea34061de7bc",
        "execution": {
          "iopub.execute_input": "2023-04-16T16:04:57.828106Z",
          "iopub.status.busy": "2023-04-16T16:04:57.827410Z",
          "iopub.status.idle": "2023-04-16T16:04:57.836191Z",
          "shell.execute_reply": "2023-04-16T16:04:57.835355Z",
          "shell.execute_reply.started": "2023-04-16T16:04:57.828040Z"
        },
        "id": "-E3wpIDI1IKG",
        "outputId": "1daa21c2-0ef0-42e6-b906-7e51332f97af",
        "colab": {
          "base_uri": "https://localhost:8080/"
        }
      },
      "outputs": [
        {
          "output_type": "execute_result",
          "data": {
            "text/plain": [
              "(185, 1)"
            ]
          },
          "metadata": {},
          "execution_count": 28
        }
      ],
      "source": [
        "inputs = sc.transform(inputs)\n",
        "inputs.shape"
      ]
    },
    {
      "cell_type": "code",
      "execution_count": 29,
      "metadata": {
        "_uuid": "ef076f0fdbe6ec72d85e7326c3e8aa73fcbad667",
        "execution": {
          "iopub.execute_input": "2023-04-16T16:04:57.839607Z",
          "iopub.status.busy": "2023-04-16T16:04:57.837830Z",
          "iopub.status.idle": "2023-04-16T16:04:57.848615Z",
          "shell.execute_reply": "2023-04-16T16:04:57.847476Z",
          "shell.execute_reply.started": "2023-04-16T16:04:57.839529Z"
        },
        "id": "6baxBgJ-1IKG"
      },
      "outputs": [],
      "source": [
        "x_test = []\n",
        "for i in range(60,185):\n",
        "    x_test.append(inputs[i-60:i,0])"
      ]
    },
    {
      "cell_type": "code",
      "execution_count": 30,
      "metadata": {
        "_uuid": "1fa15b6bb87ff2da8a730a6e1de20d5e5baf1571",
        "execution": {
          "iopub.execute_input": "2023-04-16T16:04:57.852569Z",
          "iopub.status.busy": "2023-04-16T16:04:57.851962Z",
          "iopub.status.idle": "2023-04-16T16:04:57.865322Z",
          "shell.execute_reply": "2023-04-16T16:04:57.863978Z",
          "shell.execute_reply.started": "2023-04-16T16:04:57.852501Z"
        },
        "id": "2W8tykWc1IKG",
        "outputId": "1a34b301-9ca8-4a70-8694-3652e1d705d7",
        "colab": {
          "base_uri": "https://localhost:8080/"
        }
      },
      "outputs": [
        {
          "output_type": "execute_result",
          "data": {
            "text/plain": [
              "(125, 60)"
            ]
          },
          "metadata": {},
          "execution_count": 30
        }
      ],
      "source": [
        "x_test = np.array(x_test)\n",
        "x_test.shape"
      ]
    },
    {
      "cell_type": "code",
      "execution_count": 31,
      "metadata": {
        "_uuid": "b244d0115671f29d46d2cb290f92e6a0fe38bc1d",
        "execution": {
          "iopub.execute_input": "2023-04-16T16:04:57.867419Z",
          "iopub.status.busy": "2023-04-16T16:04:57.866843Z",
          "iopub.status.idle": "2023-04-16T16:04:57.877135Z",
          "shell.execute_reply": "2023-04-16T16:04:57.876415Z",
          "shell.execute_reply.started": "2023-04-16T16:04:57.867355Z"
        },
        "id": "uVbCU3qL1IKI",
        "outputId": "d6c3763c-01c3-485e-8f04-1059844fc5b0",
        "colab": {
          "base_uri": "https://localhost:8080/"
        }
      },
      "outputs": [
        {
          "output_type": "execute_result",
          "data": {
            "text/plain": [
              "(125, 60, 1)"
            ]
          },
          "metadata": {},
          "execution_count": 31
        }
      ],
      "source": [
        "x_test = np.reshape(x_test, (x_test.shape[0],x_test.shape[1],1))\n",
        "x_test.shape"
      ]
    },
    {
      "cell_type": "code",
      "execution_count": 32,
      "metadata": {
        "_uuid": "24730042bdad3a140e033a78ae9b170304f8cefb",
        "execution": {
          "iopub.execute_input": "2023-04-16T16:04:57.879478Z",
          "iopub.status.busy": "2023-04-16T16:04:57.878814Z",
          "iopub.status.idle": "2023-04-16T16:04:58.515667Z",
          "shell.execute_reply": "2023-04-16T16:04:58.514672Z",
          "shell.execute_reply.started": "2023-04-16T16:04:57.879404Z"
        },
        "id": "A_7oraCZ1IKI",
        "colab": {
          "base_uri": "https://localhost:8080/"
        },
        "outputId": "4fb09999-1374-4eff-dcfa-ce4bdf4efeee"
      },
      "outputs": [
        {
          "output_type": "stream",
          "name": "stdout",
          "text": [
            "4/4 [==============================] - 2s 33ms/step\n"
          ]
        }
      ],
      "source": [
        "predicted_price = regressor.predict(x_test)"
      ]
    },
    {
      "cell_type": "code",
      "execution_count": 33,
      "metadata": {
        "_uuid": "4b06462fa06e7399373d8a552cd159176fbeef33",
        "execution": {
          "iopub.execute_input": "2023-04-16T16:04:58.516895Z",
          "iopub.status.busy": "2023-04-16T16:04:58.516646Z",
          "iopub.status.idle": "2023-04-16T16:04:58.527545Z",
          "shell.execute_reply": "2023-04-16T16:04:58.526619Z",
          "shell.execute_reply.started": "2023-04-16T16:04:58.516854Z"
        },
        "id": "Pv6R25sQ1IKI",
        "outputId": "2122ed35-51c8-4d14-bc63-03fca9791c17",
        "colab": {
          "base_uri": "https://localhost:8080/"
        }
      },
      "outputs": [
        {
          "output_type": "execute_result",
          "data": {
            "text/plain": [
              "array([[1035.6561 ],\n",
              "       [1034.6223 ],\n",
              "       [1037.208  ],\n",
              "       [1045.4957 ],\n",
              "       [1055.7665 ],\n",
              "       [1065.0334 ],\n",
              "       [1072.0768 ],\n",
              "       [1073.9147 ],\n",
              "       [1074.0863 ],\n",
              "       [1073.3953 ],\n",
              "       [1078.0466 ],\n",
              "       [1084.0615 ],\n",
              "       [1089.7721 ],\n",
              "       [1093.8557 ],\n",
              "       [1097.1332 ],\n",
              "       [1103.3224 ],\n",
              "       [1112.8597 ],\n",
              "       [1120.6991 ],\n",
              "       [1125.6804 ],\n",
              "       [1128.3186 ],\n",
              "       [1128.0944 ],\n",
              "       [1127.4739 ],\n",
              "       [1126.1837 ],\n",
              "       [1118.6882 ],\n",
              "       [1105.11   ],\n",
              "       [1082.4503 ],\n",
              "       [1068.9934 ],\n",
              "       [1062.377  ],\n",
              "       [1054.577  ],\n",
              "       [1051.2832 ],\n",
              "       [1051.0527 ],\n",
              "       [1052.2919 ],\n",
              "       [1057.9783 ],\n",
              "       [1065.7273 ],\n",
              "       [1071.7838 ],\n",
              "       [1077.0098 ],\n",
              "       [1081.7888 ],\n",
              "       [1084.2928 ],\n",
              "       [1087.3235 ],\n",
              "       [1092.4755 ],\n",
              "       [1094.4905 ],\n",
              "       [1091.5605 ],\n",
              "       [1078.1112 ],\n",
              "       [1066.1296 ],\n",
              "       [1063.766  ],\n",
              "       [1066.8627 ],\n",
              "       [1075.6487 ],\n",
              "       [1088.2006 ],\n",
              "       [1103.3737 ],\n",
              "       [1116.0807 ],\n",
              "       [1119.0537 ],\n",
              "       [1116.8732 ],\n",
              "       [1114.1632 ],\n",
              "       [1107.1714 ],\n",
              "       [1096.6968 ],\n",
              "       [1086.7041 ],\n",
              "       [1078.6655 ],\n",
              "       [1068.56   ],\n",
              "       [1059.311  ],\n",
              "       [1055.8788 ],\n",
              "       [1046.4429 ],\n",
              "       [1036.2307 ],\n",
              "       [1030.1893 ],\n",
              "       [1026.8071 ],\n",
              "       [1021.4843 ],\n",
              "       [1022.851  ],\n",
              "       [1024.773  ],\n",
              "       [1024.3458 ],\n",
              "       [1023.3915 ],\n",
              "       [1022.5555 ],\n",
              "       [1021.2733 ],\n",
              "       [1022.3635 ],\n",
              "       [1024.0135 ],\n",
              "       [1027.5125 ],\n",
              "       [1035.605  ],\n",
              "       [1042.8737 ],\n",
              "       [1049.121  ],\n",
              "       [1052.496  ],\n",
              "       [1049.074  ],\n",
              "       [1038.4279 ],\n",
              "       [1027.5363 ],\n",
              "       [1023.26855],\n",
              "       [1022.2985 ],\n",
              "       [1020.0629 ],\n",
              "       [1019.315  ],\n",
              "       [1018.42505],\n",
              "       [1016.93475],\n",
              "       [1020.63654],\n",
              "       [1028.455  ],\n",
              "       [1035.8306 ],\n",
              "       [1044.9043 ],\n",
              "       [1053.9062 ],\n",
              "       [1061.2689 ],\n",
              "       [1063.96   ],\n",
              "       [1061.2963 ],\n",
              "       [1057.3192 ],\n",
              "       [1051.6089 ],\n",
              "       [1048.8835 ],\n",
              "       [1051.0032 ],\n",
              "       [1052.4476 ],\n",
              "       [1054.844  ],\n",
              "       [1057.3945 ],\n",
              "       [1056.9365 ],\n",
              "       [1054.364  ],\n",
              "       [1052.2798 ],\n",
              "       [1056.7576 ],\n",
              "       [1068.1844 ],\n",
              "       [1083.0731 ],\n",
              "       [1095.0251 ],\n",
              "       [1099.5881 ],\n",
              "       [1096.8541 ],\n",
              "       [1091.7412 ],\n",
              "       [1089.9049 ],\n",
              "       [1093.0573 ],\n",
              "       [1098.8384 ],\n",
              "       [1105.1    ],\n",
              "       [1108.9075 ],\n",
              "       [1112.9069 ],\n",
              "       [1119.192  ],\n",
              "       [1125.1073 ],\n",
              "       [1126.448  ],\n",
              "       [1122.5449 ],\n",
              "       [1114.9099 ],\n",
              "       [1106.9656 ],\n",
              "       [1098.5897 ]], dtype=float32)"
            ]
          },
          "metadata": {},
          "execution_count": 33
        }
      ],
      "source": [
        "predicted_price = sc.inverse_transform(predicted_price)\n",
        "predicted_price"
      ]
    },
    {
      "cell_type": "code",
      "execution_count": 34,
      "metadata": {
        "_uuid": "e8b30d578fafb1564da4448efb1f994537f6f588",
        "execution": {
          "iopub.execute_input": "2023-04-16T16:04:58.529462Z",
          "iopub.status.busy": "2023-04-16T16:04:58.528911Z",
          "iopub.status.idle": "2023-04-16T16:04:58.815632Z",
          "shell.execute_reply": "2023-04-16T16:04:58.814220Z",
          "shell.execute_reply.started": "2023-04-16T16:04:58.529397Z"
        },
        "id": "YgCHNHZh1IKI",
        "outputId": "dc42b5b2-ea70-44bc-ce67-634867ce65d1",
        "colab": {
          "base_uri": "https://localhost:8080/",
          "height": 472
        }
      },
      "outputs": [
        {
          "output_type": "display_data",
          "data": {
            "text/plain": [
              "<Figure size 640x480 with 1 Axes>"
            ],
            "image/png": "[encoded data removed]"
          },
          "metadata": {}
        }
      ],
      "source": [
        "plt.plot(real_stock_price,color = 'red', label = 'Real Price')\n",
        "plt.plot(predicted_price, color = 'blue', label = 'Predicted Price')\n",
        "plt.title('Google Stock Price Prediction')\n",
        "plt.xlabel('Time')\n",
        "plt.ylabel('Google Stock Price')\n",
        "plt.legend()\n",
        "plt.show()"
      ]
    },
    {
      "cell_type": "code",
      "source": [],
      "metadata": {
        "id": "fd681FfDTCyS"
      },
      "execution_count": null,
      "outputs": []
    }
  ],
  "metadata": {
    "kernelspec": {
      "display_name": "Python 3 (ipykernel)",
      "language": "python",
      "name": "python3"
    },
    "language_info": {
      "codemirror_mode": {
        "name": "ipython",
        "version": 3
      },
      "file_extension": ".py",
      "mimetype": "text/x-python",
      "name": "python",
      "nbconvert_exporter": "python",
      "pygments_lexer": "ipython3",
      "version": "3.7.16"
    },
    "colab": {
      "provenance": []
    }
  },
  "nbformat": 4,
  "nbformat_minor": 0
}