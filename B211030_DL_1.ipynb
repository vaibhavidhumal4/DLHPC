{
  "cells": [
    {
      "cell_type": "markdown",
      "source": [
        "B211030- Vaibhavi Dhumal\n",
        "\n",
        "Boston house price"
      ],
      "metadata": {
        "id": "kIwfX6dFJXVo"
      },
      "id": "kIwfX6dFJXVo"
    },
    {
      "cell_type": "code",
      "execution_count": null,
      "id": "11c38845",
      "metadata": {
        "id": "11c38845"
      },
      "outputs": [],
      "source": [
        "# Importing libraries\n",
        "import numpy as np\n",
        "import pandas as pd\n",
        "import tensorflow as tf\n",
        "from sklearn.model_selection import train_test_split\n",
        "from sklearn.preprocessing import StandardScaler\n",
        "from sklearn.metrics import r2_score"
      ]
    },
    {
      "cell_type": "code",
      "execution_count": null,
      "id": "d47d09fa",
      "metadata": {
        "id": "d47d09fa"
      },
      "outputs": [],
      "source": [
        "# Loading the Boston Housing dataset\n",
        "boston_dataset = pd.read_csv('Boston.csv')\n",
        "boston = pd.DataFrame(boston_dataset, columns=boston_dataset.columns)\n",
        "boston['MEDV'] = boston_dataset['medv']"
      ]
    },
    {
      "cell_type": "code",
      "execution_count": null,
      "id": "8741c5cb",
      "metadata": {
        "id": "8741c5cb",
        "outputId": "d36126d7-24e6-4491-9f49-e0ba9ad6e8f3"
      },
      "outputs": [
        {
          "data": {
            "text/plain": [
              "(506, 16)"
            ]
          },
          "execution_count": 23,
          "metadata": {},
          "output_type": "execute_result"
        }
      ],
      "source": [
        "boston_dataset.shape"
      ]
    },
    {
      "cell_type": "code",
      "execution_count": null,
      "id": "f4074ae2",
      "metadata": {
        "id": "f4074ae2",
        "outputId": "a2c33cdf-e556-4627-fe27-345625543d0e"
      },
      "outputs": [
        {
          "name": "stdout",
          "output_type": "stream",
          "text": [
            "   Unnamed: 0     crim    zn  indus  chas    nox     rm   age     dis  rad  \\\n",
            "0           1  0.00632  18.0   2.31     0  0.538  6.575  65.2  4.0900    1   \n",
            "1           2  0.02731   0.0   7.07     0  0.469  6.421  78.9  4.9671    2   \n",
            "2           3  0.02729   0.0   7.07     0  0.469  7.185  61.1  4.9671    2   \n",
            "3           4  0.03237   0.0   2.18     0  0.458  6.998  45.8  6.0622    3   \n",
            "4           5  0.06905   0.0   2.18     0  0.458  7.147  54.2  6.0622    3   \n",
            "\n",
            "   tax  ptratio   black  lstat  medv  MEDV  \n",
            "0  296     15.3  396.90   4.98  24.0  24.0  \n",
            "1  242     17.8  396.90   9.14  21.6  21.6  \n",
            "2  242     17.8  392.83   4.03  34.7  34.7  \n",
            "3  222     18.7  394.63   2.94  33.4  33.4  \n",
            "4  222     18.7  396.90   5.33  36.2  36.2  \n"
          ]
        }
      ],
      "source": [
        "print(boston_dataset.head(5))"
      ]
    },
    {
      "cell_type": "code",
      "execution_count": null,
      "id": "759e4ecf",
      "metadata": {
        "id": "759e4ecf",
        "outputId": "f3d2ca30-bf28-4142-f74b-f5a8f6765321"
      },
      "outputs": [
        {
          "name": "stdout",
          "output_type": "stream",
          "text": [
            "(506, 16)\n"
          ]
        }
      ],
      "source": [
        "print(np.shape(boston_dataset))"
      ]
    },
    {
      "cell_type": "code",
      "execution_count": null,
      "id": "9914687f",
      "metadata": {
        "id": "9914687f",
        "outputId": "d722321f-8dba-4a83-8470-50ea7f759e89"
      },
      "outputs": [
        {
          "name": "stdout",
          "output_type": "stream",
          "text": [
            "       Unnamed: 0        crim          zn       indus        chas         nox  \\\n",
            "count  506.000000  506.000000  506.000000  506.000000  506.000000  506.000000   \n",
            "mean   253.500000    3.613524   11.363636   11.136779    0.069170    0.554695   \n",
            "std    146.213884    8.601545   23.322453    6.860353    0.253994    0.115878   \n",
            "min      1.000000    0.006320    0.000000    0.460000    0.000000    0.385000   \n",
            "25%    127.250000    0.082045    0.000000    5.190000    0.000000    0.449000   \n",
            "50%    253.500000    0.256510    0.000000    9.690000    0.000000    0.538000   \n",
            "75%    379.750000    3.677083   12.500000   18.100000    0.000000    0.624000   \n",
            "max    506.000000   88.976200  100.000000   27.740000    1.000000    0.871000   \n",
            "\n",
            "               rm         age         dis         rad         tax     ptratio  \\\n",
            "count  506.000000  506.000000  506.000000  506.000000  506.000000  506.000000   \n",
            "mean     6.284634   68.574901    3.795043    9.549407  408.237154   18.455534   \n",
            "std      0.702617   28.148861    2.105710    8.707259  168.537116    2.164946   \n",
            "min      3.561000    2.900000    1.129600    1.000000  187.000000   12.600000   \n",
            "25%      5.885500   45.025000    2.100175    4.000000  279.000000   17.400000   \n",
            "50%      6.208500   77.500000    3.207450    5.000000  330.000000   19.050000   \n",
            "75%      6.623500   94.075000    5.188425   24.000000  666.000000   20.200000   \n",
            "max      8.780000  100.000000   12.126500   24.000000  711.000000   22.000000   \n",
            "\n",
            "            black       lstat        medv        MEDV  \n",
            "count  506.000000  506.000000  506.000000  506.000000  \n",
            "mean   356.674032   12.653063   22.532806   22.532806  \n",
            "std     91.294864    7.141062    9.197104    9.197104  \n",
            "min      0.320000    1.730000    5.000000    5.000000  \n",
            "25%    375.377500    6.950000   17.025000   17.025000  \n",
            "50%    391.440000   11.360000   21.200000   21.200000  \n",
            "75%    396.225000   16.955000   25.000000   25.000000  \n",
            "max    396.900000   37.970000   50.000000   50.000000  \n"
          ]
        }
      ],
      "source": [
        "print(boston_dataset.describe())"
      ]
    },
    {
      "cell_type": "code",
      "execution_count": null,
      "id": "22985c99",
      "metadata": {
        "id": "22985c99"
      },
      "outputs": [],
      "source": [
        "# Split the data into training and testing sets\n",
        "X = boston.drop('MEDV', axis=1)\n",
        "Y = boston['MEDV']\n",
        "X_train, X_test, Y_train, Y_test = train_test_split(X, Y, test_size=0.2, random_state=1)"
      ]
    },
    {
      "cell_type": "code",
      "execution_count": null,
      "id": "6d3c93bb",
      "metadata": {
        "id": "6d3c93bb"
      },
      "outputs": [],
      "source": [
        "\n",
        "\n",
        "# Scale the data\n",
        "scaler = StandardScaler()\n",
        "X_train_scaled = scaler.fit_transform(X_train)\n",
        "X_test_scaled = scaler.transform(X_test)"
      ]
    },
    {
      "cell_type": "code",
      "execution_count": null,
      "id": "6d168276",
      "metadata": {
        "id": "6d168276"
      },
      "outputs": [],
      "source": [
        "# Define the model\n",
        "model = tf.keras.models.Sequential([\n",
        "  tf.keras.layers.Dense(64, activation='relu', input_shape=(X_train.shape[1],)),\n",
        "  tf.keras.layers.Dense(64, activation='relu'),\n",
        "  tf.keras.layers.Dense(1)\n",
        "])"
      ]
    },
    {
      "cell_type": "code",
      "execution_count": null,
      "id": "67bd8062",
      "metadata": {
        "id": "67bd8062"
      },
      "outputs": [],
      "source": [
        "# Compile the model\n",
        "model.compile(optimizer='adam', loss='mse')"
      ]
    },
    {
      "cell_type": "code",
      "execution_count": null,
      "id": "1a23efb0",
      "metadata": {
        "id": "1a23efb0",
        "outputId": "36bcdf98-e6a8-44db-dfe3-1adc44e6f35f"
      },
      "outputs": [
        {
          "name": "stdout",
          "output_type": "stream",
          "text": [
            "Epoch 1/100\n",
            "13/13 [==============================] - 2s 22ms/step - loss: 579.7935 - val_loss: 566.8345\n",
            "Epoch 2/100\n",
            "13/13 [==============================] - 0s 4ms/step - loss: 519.9058 - val_loss: 499.8945\n",
            "Epoch 3/100\n",
            "13/13 [==============================] - 0s 4ms/step - loss: 446.0014 - val_loss: 410.6792\n",
            "Epoch 4/100\n",
            "13/13 [==============================] - 0s 4ms/step - loss: 346.0971 - val_loss: 295.0309\n",
            "Epoch 5/100\n",
            "13/13 [==============================] - 0s 4ms/step - loss: 228.5537 - val_loss: 172.4942\n",
            "Epoch 6/100\n",
            "13/13 [==============================] - 0s 4ms/step - loss: 117.2006 - val_loss: 86.2677\n",
            "Epoch 7/100\n",
            "13/13 [==============================] - 0s 4ms/step - loss: 60.7959 - val_loss: 50.8605\n",
            "Epoch 8/100\n",
            "13/13 [==============================] - 0s 4ms/step - loss: 41.9353 - val_loss: 37.0392\n",
            "Epoch 9/100\n",
            "13/13 [==============================] - 0s 4ms/step - loss: 31.4906 - val_loss: 27.4767\n",
            "Epoch 10/100\n",
            "13/13 [==============================] - 0s 3ms/step - loss: 24.2087 - val_loss: 21.7079\n",
            "Epoch 11/100\n",
            "13/13 [==============================] - 0s 4ms/step - loss: 19.9854 - val_loss: 18.1820\n",
            "Epoch 12/100\n",
            "13/13 [==============================] - 0s 4ms/step - loss: 17.1946 - val_loss: 15.7325\n",
            "Epoch 13/100\n",
            "13/13 [==============================] - 0s 4ms/step - loss: 15.0696 - val_loss: 14.0107\n",
            "Epoch 14/100\n",
            "13/13 [==============================] - 0s 4ms/step - loss: 13.4463 - val_loss: 12.7971\n",
            "Epoch 15/100\n",
            "13/13 [==============================] - 0s 4ms/step - loss: 12.3516 - val_loss: 11.7113\n",
            "Epoch 16/100\n",
            "13/13 [==============================] - 0s 4ms/step - loss: 11.1735 - val_loss: 10.7977\n",
            "Epoch 17/100\n",
            "13/13 [==============================] - 0s 4ms/step - loss: 10.3415 - val_loss: 10.2638\n",
            "Epoch 18/100\n",
            "13/13 [==============================] - 0s 4ms/step - loss: 9.5420 - val_loss: 9.5540\n",
            "Epoch 19/100\n",
            "13/13 [==============================] - 0s 4ms/step - loss: 8.9082 - val_loss: 9.0734\n",
            "Epoch 20/100\n",
            "13/13 [==============================] - 0s 4ms/step - loss: 8.3447 - val_loss: 8.7130\n",
            "Epoch 21/100\n",
            "13/13 [==============================] - 0s 4ms/step - loss: 7.7903 - val_loss: 8.1594\n",
            "Epoch 22/100\n",
            "13/13 [==============================] - 0s 4ms/step - loss: 7.3412 - val_loss: 7.7143\n",
            "Epoch 23/100\n",
            "13/13 [==============================] - 0s 4ms/step - loss: 6.9347 - val_loss: 7.3838\n",
            "Epoch 24/100\n",
            "13/13 [==============================] - 0s 4ms/step - loss: 6.5723 - val_loss: 7.0898\n",
            "Epoch 25/100\n",
            "13/13 [==============================] - 0s 4ms/step - loss: 6.2431 - val_loss: 6.6430\n",
            "Epoch 26/100\n",
            "13/13 [==============================] - 0s 4ms/step - loss: 5.9225 - val_loss: 6.4520\n",
            "Epoch 27/100\n",
            "13/13 [==============================] - 0s 4ms/step - loss: 5.6786 - val_loss: 6.1964\n",
            "Epoch 28/100\n",
            "13/13 [==============================] - 0s 4ms/step - loss: 5.3824 - val_loss: 5.9290\n",
            "Epoch 29/100\n",
            "13/13 [==============================] - 0s 3ms/step - loss: 5.1993 - val_loss: 5.7668\n",
            "Epoch 30/100\n",
            "13/13 [==============================] - 0s 4ms/step - loss: 4.9399 - val_loss: 5.5288\n",
            "Epoch 31/100\n",
            "13/13 [==============================] - 0s 3ms/step - loss: 4.7501 - val_loss: 5.3834\n",
            "Epoch 32/100\n",
            "13/13 [==============================] - 0s 4ms/step - loss: 4.5536 - val_loss: 5.1878\n",
            "Epoch 33/100\n",
            "13/13 [==============================] - 0s 4ms/step - loss: 4.3981 - val_loss: 5.0531\n",
            "Epoch 34/100\n",
            "13/13 [==============================] - 0s 4ms/step - loss: 4.2246 - val_loss: 4.8554\n",
            "Epoch 35/100\n",
            "13/13 [==============================] - 0s 4ms/step - loss: 4.1005 - val_loss: 4.7853\n",
            "Epoch 36/100\n",
            "13/13 [==============================] - 0s 4ms/step - loss: 3.9351 - val_loss: 4.5902\n",
            "Epoch 37/100\n",
            "13/13 [==============================] - 0s 4ms/step - loss: 3.7831 - val_loss: 4.4526\n",
            "Epoch 38/100\n",
            "13/13 [==============================] - 0s 4ms/step - loss: 3.6974 - val_loss: 4.3520\n",
            "Epoch 39/100\n",
            "13/13 [==============================] - 0s 4ms/step - loss: 3.5651 - val_loss: 4.1889\n",
            "Epoch 40/100\n",
            "13/13 [==============================] - 0s 4ms/step - loss: 3.4270 - val_loss: 4.0594\n",
            "Epoch 41/100\n",
            "13/13 [==============================] - 0s 4ms/step - loss: 3.3219 - val_loss: 3.9709\n",
            "Epoch 42/100\n",
            "13/13 [==============================] - 0s 4ms/step - loss: 3.2117 - val_loss: 3.8503\n",
            "Epoch 43/100\n",
            "13/13 [==============================] - 0s 4ms/step - loss: 3.0983 - val_loss: 3.7659\n",
            "Epoch 44/100\n",
            "13/13 [==============================] - 0s 4ms/step - loss: 3.0200 - val_loss: 3.6303\n",
            "Epoch 45/100\n",
            "13/13 [==============================] - 0s 4ms/step - loss: 3.0036 - val_loss: 3.6176\n",
            "Epoch 46/100\n",
            "13/13 [==============================] - 0s 4ms/step - loss: 2.8331 - val_loss: 3.4714\n",
            "Epoch 47/100\n",
            "13/13 [==============================] - 0s 4ms/step - loss: 2.7135 - val_loss: 3.4201\n",
            "Epoch 48/100\n",
            "13/13 [==============================] - 0s 4ms/step - loss: 2.6206 - val_loss: 3.2971\n",
            "Epoch 49/100\n",
            "13/13 [==============================] - 0s 4ms/step - loss: 2.5344 - val_loss: 3.2256\n",
            "Epoch 50/100\n",
            "13/13 [==============================] - 0s 4ms/step - loss: 2.4815 - val_loss: 3.1975\n",
            "Epoch 51/100\n",
            "13/13 [==============================] - 0s 4ms/step - loss: 2.3792 - val_loss: 3.0637\n",
            "Epoch 52/100\n",
            "13/13 [==============================] - 0s 4ms/step - loss: 2.3216 - val_loss: 3.0033\n",
            "Epoch 53/100\n",
            "13/13 [==============================] - 0s 4ms/step - loss: 2.2419 - val_loss: 2.9665\n",
            "Epoch 54/100\n",
            "13/13 [==============================] - 0s 4ms/step - loss: 2.1967 - val_loss: 2.8615\n",
            "Epoch 55/100\n",
            "13/13 [==============================] - 0s 4ms/step - loss: 2.1231 - val_loss: 2.8480\n",
            "Epoch 56/100\n",
            "13/13 [==============================] - 0s 3ms/step - loss: 2.0490 - val_loss: 2.7432\n",
            "Epoch 57/100\n",
            "13/13 [==============================] - 0s 4ms/step - loss: 1.9867 - val_loss: 2.6608\n",
            "Epoch 58/100\n",
            "13/13 [==============================] - 0s 4ms/step - loss: 1.9340 - val_loss: 2.6377\n",
            "Epoch 59/100\n",
            "13/13 [==============================] - 0s 4ms/step - loss: 1.8673 - val_loss: 2.5568\n",
            "Epoch 60/100\n",
            "13/13 [==============================] - 0s 4ms/step - loss: 1.8072 - val_loss: 2.4932\n",
            "Epoch 61/100\n",
            "13/13 [==============================] - 0s 4ms/step - loss: 1.7626 - val_loss: 2.4221\n",
            "Epoch 62/100\n",
            "13/13 [==============================] - 0s 4ms/step - loss: 1.7002 - val_loss: 2.3837\n",
            "Epoch 63/100\n",
            "13/13 [==============================] - 0s 3ms/step - loss: 1.6564 - val_loss: 2.3385\n",
            "Epoch 64/100\n",
            "13/13 [==============================] - 0s 4ms/step - loss: 1.6168 - val_loss: 2.2838\n",
            "Epoch 65/100\n",
            "13/13 [==============================] - 0s 4ms/step - loss: 1.5665 - val_loss: 2.2466\n",
            "Epoch 66/100\n",
            "13/13 [==============================] - 0s 3ms/step - loss: 1.5442 - val_loss: 2.1940\n",
            "Epoch 67/100\n",
            "13/13 [==============================] - 0s 3ms/step - loss: 1.4927 - val_loss: 2.1336\n",
            "Epoch 68/100\n",
            "13/13 [==============================] - 0s 4ms/step - loss: 1.4522 - val_loss: 2.1053\n",
            "Epoch 69/100\n",
            "13/13 [==============================] - 0s 4ms/step - loss: 1.4215 - val_loss: 2.0470\n",
            "Epoch 70/100\n",
            "13/13 [==============================] - 0s 5ms/step - loss: 1.3719 - val_loss: 2.0393\n",
            "Epoch 71/100\n",
            "13/13 [==============================] - 0s 3ms/step - loss: 1.3441 - val_loss: 1.9835\n",
            "Epoch 72/100\n",
            "13/13 [==============================] - 0s 3ms/step - loss: 1.3089 - val_loss: 1.9623\n",
            "Epoch 73/100\n",
            "13/13 [==============================] - 0s 4ms/step - loss: 1.2761 - val_loss: 1.8952\n",
            "Epoch 74/100\n",
            "13/13 [==============================] - 0s 4ms/step - loss: 1.2514 - val_loss: 1.8818\n",
            "Epoch 75/100\n",
            "13/13 [==============================] - 0s 4ms/step - loss: 1.2050 - val_loss: 1.8480\n",
            "Epoch 76/100\n",
            "13/13 [==============================] - 0s 4ms/step - loss: 1.1727 - val_loss: 1.8131\n",
            "Epoch 77/100\n",
            "13/13 [==============================] - 0s 4ms/step - loss: 1.1533 - val_loss: 1.7807\n",
            "Epoch 78/100\n",
            "13/13 [==============================] - 0s 4ms/step - loss: 1.1223 - val_loss: 1.7512\n",
            "Epoch 79/100\n",
            "13/13 [==============================] - 0s 4ms/step - loss: 1.1093 - val_loss: 1.7289\n",
            "Epoch 80/100\n",
            "13/13 [==============================] - 0s 4ms/step - loss: 1.0749 - val_loss: 1.6943\n",
            "Epoch 81/100\n",
            "13/13 [==============================] - 0s 4ms/step - loss: 1.0587 - val_loss: 1.6859\n",
            "Epoch 82/100\n",
            "13/13 [==============================] - 0s 4ms/step - loss: 1.0236 - val_loss: 1.6370\n",
            "Epoch 83/100\n",
            "13/13 [==============================] - 0s 4ms/step - loss: 0.9885 - val_loss: 1.6404\n",
            "Epoch 84/100\n",
            "13/13 [==============================] - 0s 4ms/step - loss: 0.9649 - val_loss: 1.5829\n",
            "Epoch 85/100\n",
            "13/13 [==============================] - 0s 4ms/step - loss: 0.9514 - val_loss: 1.5622\n",
            "Epoch 86/100\n",
            "13/13 [==============================] - 0s 4ms/step - loss: 0.9222 - val_loss: 1.5437\n",
            "Epoch 87/100\n",
            "13/13 [==============================] - 0s 4ms/step - loss: 0.9147 - val_loss: 1.5493\n",
            "Epoch 88/100\n",
            "13/13 [==============================] - 0s 4ms/step - loss: 0.8950 - val_loss: 1.5184\n",
            "Epoch 89/100\n",
            "13/13 [==============================] - 0s 3ms/step - loss: 0.8701 - val_loss: 1.4658\n",
            "Epoch 90/100\n",
            "13/13 [==============================] - 0s 4ms/step - loss: 0.8495 - val_loss: 1.5099\n",
            "Epoch 91/100\n",
            "13/13 [==============================] - 0s 3ms/step - loss: 0.8492 - val_loss: 1.4326\n",
            "Epoch 92/100\n",
            "13/13 [==============================] - 0s 3ms/step - loss: 0.8271 - val_loss: 1.4211\n",
            "Epoch 93/100\n",
            "13/13 [==============================] - 0s 4ms/step - loss: 0.7996 - val_loss: 1.3989\n",
            "Epoch 94/100\n",
            "13/13 [==============================] - 0s 3ms/step - loss: 0.7729 - val_loss: 1.3790\n",
            "Epoch 95/100\n",
            "13/13 [==============================] - 0s 3ms/step - loss: 0.7562 - val_loss: 1.3617\n",
            "Epoch 96/100\n",
            "13/13 [==============================] - 0s 4ms/step - loss: 0.7391 - val_loss: 1.3292\n",
            "Epoch 97/100\n",
            "13/13 [==============================] - 0s 4ms/step - loss: 0.7235 - val_loss: 1.3122\n",
            "Epoch 98/100\n",
            "13/13 [==============================] - 0s 3ms/step - loss: 0.7109 - val_loss: 1.3096\n",
            "Epoch 99/100\n",
            "13/13 [==============================] - 0s 4ms/step - loss: 0.6938 - val_loss: 1.2771\n",
            "Epoch 100/100\n",
            "13/13 [==============================] - 0s 4ms/step - loss: 0.6795 - val_loss: 1.2723\n"
          ]
        }
      ],
      "source": [
        "# Train the model\n",
        "history = model.fit(X_train_scaled, Y_train, validation_data=(X_test_scaled, Y_test), epochs=100)"
      ]
    },
    {
      "cell_type": "code",
      "execution_count": null,
      "id": "ac3bad58",
      "metadata": {
        "id": "ac3bad58",
        "outputId": "4fde00c9-f548-418c-f416-0e3c5c478f04"
      },
      "outputs": [
        {
          "name": "stdout",
          "output_type": "stream",
          "text": [
            "4/4 [==============================] - 0s 2ms/step\n",
            "R^2 score: 0.987125595222069\n"
          ]
        }
      ],
      "source": [
        "# Evaluate the model\n",
        "Y_pred = model.predict(X_test_scaled)\n",
        "r2 = r2_score(Y_test, Y_pred)\n",
        "print(\"R^2 score:\", r2)\n"
      ]
    },
    {
      "cell_type": "code",
      "execution_count": null,
      "id": "feeca502",
      "metadata": {
        "id": "feeca502",
        "outputId": "c7446586-11c0-4dd4-d7ac-ccbe6dc63a49",
        "scrolled": true
      },
      "outputs": [
        {
          "name": "stderr",
          "output_type": "stream",
          "text": [
            "C:\\Users\\D_COMP_RSL-14\\anaconda3\\lib\\site-packages\\seaborn\\_decorators.py:36: FutureWarning: Pass the following variables as keyword args: x, y. From version 0.12, the only valid positional argument will be `data`, and passing other arguments without an explicit keyword will result in an error or misinterpretation.\n",
            "  warnings.warn(\n",
            "C:\\Users\\D_COMP_RSL-14\\anaconda3\\lib\\site-packages\\seaborn\\_decorators.py:36: FutureWarning: Pass the following variables as keyword args: x, y. From version 0.12, the only valid positional argument will be `data`, and passing other arguments without an explicit keyword will result in an error or misinterpretation.\n",
            "  warnings.warn(\n"
          ]
        },
        {
          "data": {
            "text/plain": [
              "<AxesSubplot:xlabel='True Values', ylabel='Predicted Values'>"
            ]
          },
          "execution_count": 21,
          "metadata": {},
          "output_type": "execute_result"
        },
        {
          "data": {
            "image/png": "[encoded data removed]",
            "text/plain": [
              "<Figure size 640x480 with 1 Axes>"
            ]
          },
          "metadata": {},
          "output_type": "display_data"
        }
      ],
      "source": [
        "import numpy as np\n",
        "import seaborn as sns\n",
        "\n",
        "# Generate some sample data\n",
        "X = np.random.normal(0, 1, 100)\n",
        "Y = 2 * X + np.random.normal(0, 1, 100)\n",
        "\n",
        "# Fit a linear regression model\n",
        "model = np.polyfit(X, Y, 1)\n",
        "\n",
        "# Make predictions on the training data\n",
        "Y_pred = np.polyval(model, X)\n",
        "\n",
        "# Add axis labels\n",
        "plt.xlabel('True Values')\n",
        "plt.ylabel('Predicted Values')\n",
        "\n",
        "# Create a scatter plot of predicted vs true values\n",
        "sns.scatterplot(np.squeeze(Y), np.squeeze(Y_pred))\n",
        "\n",
        "# Add a diagonal line to show perfect correlation\n",
        "sns.lineplot(np.squeeze(Y), np.squeeze(Y), color='red')\n",
        "\n"
      ]
    },
    {
      "cell_type": "code",
      "execution_count": null,
      "id": "fb610184",
      "metadata": {
        "id": "fb610184"
      },
      "outputs": [],
      "source": []
    }
  ],
  "metadata": {
    "colab": {
      "provenance": []
    },
    "kernelspec": {
      "display_name": "Python 3 (ipykernel)",
      "language": "python",
      "name": "python3"
    },
    "language_info": {
      "codemirror_mode": {
        "name": "ipython",
        "version": 3
      },
      "file_extension": ".py",
      "mimetype": "text/x-python",
      "name": "python",
      "nbconvert_exporter": "python",
      "pygments_lexer": "ipython3",
      "version": "3.10.9"
    }
  },
  "nbformat": 4,
  "nbformat_minor": 5
}